{
 "cells": [
  {
   "cell_type": "code",
   "execution_count": 1,
   "metadata": {},
   "outputs": [],
   "source": [
    "away = \"Utah State\"\n",
    "home = \"Hawai'i\""
   ]
  },
  {
   "cell_type": "code",
   "execution_count": 2,
   "metadata": {
    "scrolled": true
   },
   "outputs": [],
   "source": [
    "import pandas as pd\n",
    "\n",
    "drives_df = pd.read_csv(\"Data/2018drives_augmented.tsv\", sep=\"\\t\")\n",
    "teams_df = pd.read_csv(\"Data/teams_aPPD.tsv\", sep=\"\\t\", index_col=\"team\")\n",
    "#teams_df"
   ]
  },
  {
   "cell_type": "code",
   "execution_count": 3,
   "metadata": {
    "scrolled": true
   },
   "outputs": [],
   "source": [
    "pace = drives_df.groupby([\"offense\", \"game_id\"]).count()\n",
    "pace = pd.DataFrame(pace.reset_index().groupby(\"offense\").mean()[\"defense\"])\n",
    "pace.columns = [\"pace\"]\n",
    "pace.index = pace.index.rename(\"team\")\n",
    "#pace"
   ]
  },
  {
   "cell_type": "code",
   "execution_count": 4,
   "metadata": {
    "scrolled": true
   },
   "outputs": [],
   "source": [
    "teams_df = pd.merge(teams_df, pace, left_index=True, right_index=True)\n",
    "#teams_df"
   ]
  },
  {
   "cell_type": "code",
   "execution_count": 5,
   "metadata": {},
   "outputs": [
    {
     "data": {
      "text/plain": [
       "12.476190476190476"
      ]
     },
     "execution_count": 5,
     "metadata": {},
     "output_type": "execute_result"
    }
   ],
   "source": [
    "gamePace = (teams_df.at[away, \"pace\"] + teams_df.at[home, \"pace\"]) / 2.0\n",
    "gamePace"
   ]
  },
  {
   "cell_type": "code",
   "execution_count": 6,
   "metadata": {},
   "outputs": [
    {
     "data": {
      "text/plain": [
       "21.417157365140305"
      ]
     },
     "execution_count": 6,
     "metadata": {},
     "output_type": "execute_result"
    }
   ],
   "source": [
    "result = (teams_df.at[away, \"net_aPPD\"] - teams_df.at[home, \"net_aPPD\"]) * gamePace\n",
    "result"
   ]
  }
 ],
 "metadata": {
  "kernelspec": {
   "display_name": "Python 3",
   "language": "python",
   "name": "python3"
  },
  "language_info": {
   "codemirror_mode": {
    "name": "ipython",
    "version": 3
   },
   "file_extension": ".py",
   "mimetype": "text/x-python",
   "name": "python",
   "nbconvert_exporter": "python",
   "pygments_lexer": "ipython3",
   "version": "3.6.6"
  }
 },
 "nbformat": 4,
 "nbformat_minor": 2
}
